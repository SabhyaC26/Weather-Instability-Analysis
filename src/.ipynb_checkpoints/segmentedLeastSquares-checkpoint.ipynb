{
 "cells": [
  {
   "cell_type": "markdown",
   "metadata": {},
   "source": [
    "# Background Knowledge\n",
    "\n",
    "The following notes are inspired by [this presentation](https://people.cs.umass.edu/~sheldon/teaching/mhc/cs312/2013sp/Slides/Slides15%20-%20Segmented%20Least%20Squares.pdf) created the University of Massachusetts and \n",
    "[this presentation](https://www.cs.princeton.edu/~wayne/kleinberg-tardos/pdf/06DynamicProgrammingI.pdf) created by Princeton Universiity.\n",
    "\n",
    "Ordinary Least Squares is a foundational problem in statistics and numerical analysis. Given n points in the plane: (x1, y1), (x2, y2) , . . . , (xn, yn), we want to find a line y = ax + b that minimizes the sum of the squared error given by:\n",
    "$$SSE = \\sum_{i=1}^{n} (y_i - ax_i - b)^2$$\n",
    "In the above equation, the values of $a$ and $b$ can be derived using techniques from calculus. I will not delve into those techniques here to maintain focus on the algorithmic application of the problem.\n",
    "\n",
    "$$a = \\frac{n\\sum_{i}{x_i}{y_i} - (\\sum_{i}{x_i})(\\sum_{i}{y_i})}{n\\sum_{i}{x_i^2} - (\\sum_{i}{x_i})^2}$$\n",
    "\n",
    "$$b= \\frac{\\sum_{i}{y_i} -a\\sum_{i}{x_i}}{n}$$\n",
    "A single line, however, does not work very well in a lot of instances. This can be seen in the following scenario:\n",
    "\n",
    "<img src=\"../assets/single_line.png\" style=\"width: 300px; height: 200px;\">\n",
    "\n",
    "A better way to model the points in the above graph would be to use a sequence on lines that fits well, rather than just one, with each line having an associated cost, to prevent the use of more lines than required. For example, the above points can be modelled with 3 lines:\n",
    "\n",
    "<img src=\"../assets/multi_line.png\" style=\"width: 300px; height: 200px;\">\n",
    "\n",
    "Now, the main idea of the algorithm is to find a sequence of lines that minimizes the total error from each segment while using as few lines as possible."
   ]
  },
  {
   "cell_type": "markdown",
   "metadata": {},
   "source": [
    "# Implementation"
   ]
  },
  {
   "cell_type": "code",
   "execution_count": 1,
   "metadata": {},
   "outputs": [],
   "source": [
    "import numpy as np\n",
    "import pandas as pd"
   ]
  },
  {
   "cell_type": "markdown",
   "metadata": {},
   "source": [
    "**Before implementing the segmented least squares algorithm, I will create some data on which I can run the algorithm.**"
   ]
  },
  {
   "cell_type": "code",
   "execution_count": 2,
   "metadata": {},
   "outputs": [
    {
     "data": {
      "text/html": [
       "<div>\n",
       "<style scoped>\n",
       "    .dataframe tbody tr th:only-of-type {\n",
       "        vertical-align: middle;\n",
       "    }\n",
       "\n",
       "    .dataframe tbody tr th {\n",
       "        vertical-align: top;\n",
       "    }\n",
       "\n",
       "    .dataframe thead th {\n",
       "        text-align: right;\n",
       "    }\n",
       "</style>\n",
       "<table border=\"1\" class=\"dataframe\">\n",
       "  <thead>\n",
       "    <tr style=\"text-align: right;\">\n",
       "      <th></th>\n",
       "      <th>X</th>\n",
       "      <th>Y</th>\n",
       "    </tr>\n",
       "  </thead>\n",
       "  <tbody>\n",
       "    <tr>\n",
       "      <th>0</th>\n",
       "      <td>4</td>\n",
       "      <td>1</td>\n",
       "    </tr>\n",
       "    <tr>\n",
       "      <th>1</th>\n",
       "      <td>145</td>\n",
       "      <td>64</td>\n",
       "    </tr>\n",
       "    <tr>\n",
       "      <th>2</th>\n",
       "      <td>579</td>\n",
       "      <td>497</td>\n",
       "    </tr>\n",
       "    <tr>\n",
       "      <th>3</th>\n",
       "      <td>878</td>\n",
       "      <td>601</td>\n",
       "    </tr>\n",
       "    <tr>\n",
       "      <th>4</th>\n",
       "      <td>903</td>\n",
       "      <td>866</td>\n",
       "    </tr>\n",
       "  </tbody>\n",
       "</table>\n",
       "</div>"
      ],
      "text/plain": [
       "     X    Y\n",
       "0    4    1\n",
       "1  145   64\n",
       "2  579  497\n",
       "3  878  601\n",
       "4  903  866"
      ]
     },
     "execution_count": 2,
     "metadata": {},
     "output_type": "execute_result"
    }
   ],
   "source": [
    "# generate random integer values\n",
    "from random import seed\n",
    "from random import randint\n",
    "seed(1)\n",
    "\n",
    "# while I know these numbers are pseudorandom, they will do for demonstration purposes\n",
    "\n",
    "# generate some integers\n",
    "x = []\n",
    "counter = 0\n",
    "for _ in range(100):\n",
    "    x.append(randint(counter, counter+(randint(0, 200))))\n",
    "    counter += randint(0, 500)\n",
    "\n",
    "seed(2)\n",
    "y = []\n",
    "counter = 0\n",
    "for _ in range(100):\n",
    "    y.append(randint(counter, counter+(randint(0, 200))))\n",
    "    counter += randint(0, 500)\n",
    "    \n",
    "# adding random points to dataframe\n",
    "data = pd.DataFrame(columns=['X', 'Y'])\n",
    "data['X'] = x\n",
    "data['Y'] = y\n",
    "\n",
    "data.head()"
   ]
  },
  {
   "cell_type": "markdown",
   "metadata": {},
   "source": [
    "**Plotting a scatter plot of the (X,Y) points to see the general distribution of points.**\n",
    "\n",
    "**It was quite tricky to get the random data to look like it could be modelled by a segmented least squares algorithm, however, no real technique was involved other than simply trial and error.**"
   ]
  },
  {
   "cell_type": "code",
   "execution_count": 5,
   "metadata": {
    "scrolled": true
   },
   "outputs": [
    {
     "name": "stdout",
     "output_type": "stream",
     "text": [
      "AxesSubplot(0.125,0.125;0.775x0.755)\n"
     ]
    },
    {
     "data": {
      "image/png": "[encoded data removed]",
      "text/plain": [
       "<Figure size 432x288 with 1 Axes>"
      ]
     },
     "metadata": {},
     "output_type": "display_data"
    }
   ],
   "source": [
    "plot = data.plot(kind='scatter', x='X', y='Y')\n",
    "print(plot)"
   ]
  },
  {
   "cell_type": "markdown",
   "metadata": {},
   "source": [
    "**Before we dive into the dynamic programming aspect of the implementation, we need to pre-process the data that was generated above**\n",
    "<br />\n",
    "**We need to compute the least square error for every segment $p_i \\dots p_j$.**\n",
    "<br />\n",
    "**This process will take O(n<sup>3</sup>) time. While this may be computationally expensive, it will save a lot of time when we implement the actual segmented least squares algorithm.**\n",
    "<br />\n",
    "**We use the following formula to calculate the least square error for arbitrary segment $p_i \\dots p_j:$**\n",
    "<br />\n",
    "$$SSE = \\sum_{k=i}^{j} (y_k - ax_k - b)^2$$\n",
    "**Wiith the definitions of $a$ and $b$ updated as follows:**\n",
    "$$a = \\frac{(j-i)\\sum_{k=i}^{j}{x_k}{y_k} - (\\sum_{k=i}^{j}{x_k})(\\sum_{k=i}^{j}{y_k})}{(j-i)\\sum_{k=i}^{j}{x_k^2} - (\\sum_{k=i}^{j}{x_k})^2}$$\n",
    "<br />\n",
    "$$b= \\frac{\\sum_{k=i}^{j}{y_k} -a\\sum_{k=i}^{j}{x_k}}{j-i}$$\n",
    "<br />\n",
    "**Also note, $i<j$ $\\forall j, i$**\n",
    "<br />\n",
    "<br />\n",
    "**We will now implement the segmented least squares algorithm. This implemnetation is as generic as possible so it can run on more signifcant data without having to tweak the implementation.**"
   ]
  },
  {
   "cell_type": "code",
   "execution_count": 6,
   "metadata": {},
   "outputs": [],
   "source": [
    "# I will first write some helper functions that let us calculate the a and b values for any given i and j (i<j)\n",
    "def getA(i, j, data):\n",
    "    # the first summation in the formula\n",
    "    sum1 = 0\n",
    "    for k in range(i, j+1):\n",
    "        sum1 += (data['X'][k] * data['Y'][k])\n",
    "    \n",
    "    # the second summation in the formula\n",
    "    sum2 = 0\n",
    "    for k in range(i, j+1):\n",
    "        sum2 += data['X'][k]\n",
    "        \n",
    "    # the third summation in the formula\n",
    "    sum3 = 0\n",
    "    for k in range(i, j+1):\n",
    "        sum3 += data['Y'][k]\n",
    "    \n",
    "    # the fourth summation in the formula\n",
    "    sum4 = 0\n",
    "    for k in range(i, j+1):\n",
    "        sum4 += (data['X'][k] * data['X'][k])\n",
    "    \n",
    "    # the fifth summation in the formula\n",
    "    sum5 = sum4**2\n",
    "    \n",
    "    dif = j-i\n",
    "\n",
    "    return ((dif*sum1)-(sum2*sum3))/((dif*sum4)-sum5)\n",
    "\n",
    "def getB(i, j, data, a):\n",
    "    # the first summation in the formula\n",
    "    sum1 = 0\n",
    "    for k in range(i, j+1):\n",
    "        sum1 += data['Y'][k]\n",
    "    \n",
    "    # the second summation in the formula\n",
    "    sum2 = 0\n",
    "    for k in range(i, j+1):\n",
    "        sum2 += data['X'][k]\n",
    "        \n",
    "    dif = j-i\n",
    "    \n",
    "    return (sum1 - (a * sum2))/(dif)"
   ]
  },
  {
   "cell_type": "code",
   "execution_count": 7,
   "metadata": {},
   "outputs": [],
   "source": [
    "# We now write a helper function that gets us the sum of the squared error for p_i ... p_j\n",
    "def getSSE(i, j, data):\n",
    "    sse = 0\n",
    "    for k in range(i, j+1):\n",
    "        a = getA(i, j, data)\n",
    "        b = getB(i, j, data, a)\n",
    "        sse += ((data['Y'][k] - (a * data['Y'][k]) - b)**2)\n",
    "    return sse"
   ]
  },
  {
   "cell_type": "code",
   "execution_count": 8,
   "metadata": {},
   "outputs": [
    {
     "data": {
      "text/plain": [
       "251400087.1551328"
      ]
     },
     "execution_count": 8,
     "metadata": {},
     "output_type": "execute_result"
    }
   ],
   "source": [
    "# test\n",
    "getSSE(10,40,data)"
   ]
  },
  {
   "cell_type": "code",
   "execution_count": 9,
   "metadata": {
    "scrolled": true
   },
   "outputs": [],
   "source": [
    "# generating the table for p_i --> p_j forall i < j\n",
    "# so 0..(1,2,3,4,5,...,n), 1..(2,3,4,5,...,n), 2..(3,4,5,...,n), 3..(4,5,6,...,n)\n",
    "\n",
    "num_points = len(data)\n",
    "\n",
    "# Initialize empty table\n",
    "E = [[0 for i in range(num_points)] for i in range(num_points)]\n",
    "\n",
    "# We now want to populate this table with SSE values for all i,j pairs (i<j)\n",
    "for i in range(num_points):\n",
    "    for j in range(i+1, num_points):\n",
    "        E[i][j] = getSSE(i,j,data)"
   ]
  },
  {
   "cell_type": "code",
   "execution_count": 10,
   "metadata": {},
   "outputs": [],
   "source": [
    "#print(E)"
   ]
  },
  {
   "cell_type": "markdown",
   "metadata": {},
   "source": [
    "**You can really feel the pain of the $O(n^3)$ operation in the above step. When I ran it the first time on a mere dataset of just 100 points it took around 10 minutes on my laptop. So I will introduce a modification later on that does the pre-processing of the algorithm run in $O(n^2)$.**"
   ]
  },
  {
   "cell_type": "markdown",
   "metadata": {},
   "source": [
    "**We can now implement the dynamic programming algorithm to find the least number of segments to model a given dataset.**\n",
    "<br />\n",
    "**Writing the algorithm in Pseudocode:**\n",
    "<br />\n",
    "```\n",
    "OPT[0] = 0\n",
    "for j = 1 to n:\n",
    "    OPT[j] = min(1<i<j)(e_ij + C + OPT[i-1])\n",
    "return OPT[n}\n",
    "```"
   ]
  },
  {
   "cell_type": "markdown",
   "metadata": {},
   "source": [
    "**The variable 'C' in the above dataset represents the cost of adding a single line segment to model the data. This factor is arbitrary and varies between implementations.**\n",
    "<br />\n",
    "<br />\n",
    "**We can now transform this into actual working code, which we will run on our sample dataset.**"
   ]
  },
  {
   "cell_type": "code",
   "execution_count": 11,
   "metadata": {},
   "outputs": [],
   "source": [
    "def segLeastSqs(data, errors, C):\n",
    "    # initialize new array of size 'n' to store optimal solutions of subproblems\n",
    "    n = len(data)\n",
    "    OPT = [0 for i in range(n)]\n",
    "    \n",
    "    # array to store the indices of 'i' values that minimize OPT[j]\n",
    "    indices = [0 for i in range(n)]\n",
    "    \n",
    "    # populate array M and retrun the final value\n",
    "    for j in range (1,n):\n",
    "        minimum = float(\"inf\")\n",
    "        for i in range(1, j):\n",
    "            val = errors[i][j] + C + OPT[i-1]\n",
    "            if val < minimum:\n",
    "                minimum = val\n",
    "                indices[j] = i\n",
    "        OPT[j] = minimum\n",
    "    return OPT[n-1], indices"
   ]
  },
  {
   "cell_type": "code",
   "execution_count": 15,
   "metadata": {},
   "outputs": [
    {
     "name": "stdout",
     "output_type": "stream",
     "text": [
      "734856018.6950662\n",
      "[0, 0, 1, 1, 1, 1, 1, 1, 1, 1, 1, 1, 1, 1, 1, 1, 1, 1, 1, 1, 1, 1, 1, 1, 1, 1, 1, 1, 1, 16, 17, 17, 20, 20, 20, 21, 21, 21, 23, 23, 23, 23, 23, 24, 24, 25, 25, 26, 34, 34, 34, 34, 35, 35, 35, 35, 37, 37, 37, 38, 40, 41, 41, 41, 41, 41, 41, 41, 42, 42, 43, 43, 44, 58, 58, 59, 59, 59, 60, 60, 61, 64, 64, 64, 65, 66, 66, 66, 66, 66, 66, 67, 67, 67, 67, 68, 68, 68, 68, 68]\n"
     ]
    }
   ],
   "source": [
    "# 'data' is the data we generated\n",
    "# 'E' is the table of errors\n",
    "cost = 100000000\n",
    "mincost, ivals = segLeastSqs(data, E, cost)\n",
    "print(mincost)\n",
    "print(ivals)"
   ]
  },
  {
   "cell_type": "markdown",
   "metadata": {},
   "source": [
    "**We can now trace through the 'i' values that minmize OPT[j] to determine the number of line segments used.**"
   ]
  },
  {
   "cell_type": "code",
   "execution_count": 16,
   "metadata": {},
   "outputs": [],
   "source": [
    "def getNumSegs(arr):\n",
    "    num_segments = 0\n",
    "    for x in range(1, len(arr)):\n",
    "        # everytime the value changes, it means a new segment was used\n",
    "        if arr[x] > arr[x-1]:\n",
    "            num_segments += 1\n",
    "    return num_segments"
   ]
  },
  {
   "cell_type": "code",
   "execution_count": 17,
   "metadata": {},
   "outputs": [
    {
     "name": "stdout",
     "output_type": "stream",
     "text": [
      "27\n"
     ]
    }
   ],
   "source": [
    "print(getNumSegs(ivals))"
   ]
  },
  {
   "cell_type": "markdown",
   "metadata": {},
   "source": [
    "**The basic algorithm implementation is now complete and can be used on more significant datasets.**"
   ]
  }
 ],
 "metadata": {
  "kernelspec": {
   "display_name": "Python 3",
   "language": "python",
   "name": "python3"
  },
  "language_info": {
   "codemirror_mode": {
    "name": "ipython",
    "version": 3
   },
   "file_extension": ".py",
   "mimetype": "text/x-python",
   "name": "python",
   "nbconvert_exporter": "python",
   "pygments_lexer": "ipython3",
   "version": "3.6.5"
  }
 },
 "nbformat": 4,
 "nbformat_minor": 2
}
