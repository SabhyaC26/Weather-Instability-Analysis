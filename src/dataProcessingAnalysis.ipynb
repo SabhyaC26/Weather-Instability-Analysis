{
 "cells": [
  {
   "cell_type": "markdown",
   "metadata": {},
   "source": [
    "# Segmented Least Sq Algorithm"
   ]
  },
  {
   "cell_type": "code",
   "execution_count": 5,
   "metadata": {},
   "outputs": [],
   "source": [
    "# I will first write some helper functions that let us calculate the a and b values for any given i and j (i<j)\n",
    "def getA(i, j, data):\n",
    "    # the first summation in the formula\n",
    "    sum1 = 0\n",
    "    for k in range(i, j+1):\n",
    "        sum1 += (data['X'][k] * data['Y'][k])\n",
    "    \n",
    "    # the second summation in the formula\n",
    "    sum2 = 0\n",
    "    for k in range(i, j+1):\n",
    "        sum2 += data['X'][k]\n",
    "        \n",
    "    # the third summation in the formula\n",
    "    sum3 = 0\n",
    "    for k in range(i, j+1):\n",
    "        sum3 += data['Y'][k]\n",
    "    \n",
    "    # the fourth summation in the formula\n",
    "    sum4 = 0\n",
    "    for k in range(i, j+1):\n",
    "        sum4 += (data['X'][k] * data['X'][k])\n",
    "    \n",
    "    # the fifth summation in the formula\n",
    "    sum5 = sum4**2\n",
    "    \n",
    "    dif = j-i\n",
    "\n",
    "    return ((dif*sum1)-(sum2*sum3))/((dif*sum4)-sum5)\n",
    "\n",
    "\n",
    "# getting the B value\n",
    "def getB(i, j, data, a):\n",
    "    # the first summation in the formula\n",
    "    sum1 = 0\n",
    "    for k in range(i, j+1):\n",
    "        sum1 += data['Y'][k]\n",
    "    \n",
    "    # the second summation in the formula\n",
    "    sum2 = 0\n",
    "    for k in range(i, j+1):\n",
    "        sum2 += data['X'][k]\n",
    "        \n",
    "    dif = j-i\n",
    "    \n",
    "    return (sum1 - (a * sum2))/(dif)\n",
    "\n",
    "\n",
    "# We now write a helper function that gets us the sum of the squared error for p_i ... p_j\n",
    "def getSSE(i, j, data):\n",
    "    sse = 0\n",
    "    for k in range(i, j+1):\n",
    "        a = getA(i, j, data)\n",
    "        b = getB(i, j, data, a)\n",
    "        sse += ((data['Y'][k] - (a * data['Y'][k]) - b)**2)\n",
    "    return sse\n",
    "\n",
    "\n",
    "# generating the table for p_i --> p_j forall i < j\n",
    "# so 0..(1,2,3,4,5,...,n), 1..(2,3,4,5,...,n), 2..(3,4,5,...,n), 3..(4,5,6,...,n)\n",
    "def getErrTable(data):\n",
    "    num_points = len(data)\n",
    "    # Initialize empty table\n",
    "    E = [[0 for i in range(num_points)] for i in range(num_points)]\n",
    "    # We now want to populate this table with SSE values for all i,j pairs (i<j)\n",
    "    for i in range(num_points):\n",
    "        for j in range(i+1, num_points):\n",
    "            E[i][j] = getSSE(i,j,data)\n",
    "\n",
    "            \n",
    "            \n",
    "# actual DP algorithm\n",
    "def segLeastSqs(data, errors, C):\n",
    "    # initialize new array of size 'n' to store optimal solutions of subproblems\n",
    "    n = len(data)\n",
    "    OPT = [0 for i in range(n)]\n",
    "    \n",
    "    # array to store the indices of 'i' values that minimize OPT[j]\n",
    "    indices = [0 for i in range(n)]\n",
    "    \n",
    "    # populate array M and retrun the final value\n",
    "    for j in range (1,n):\n",
    "        minimum = float(\"inf\")\n",
    "        for i in range(1, j):\n",
    "            val = errors[i][j] + C + OPT[i-1]\n",
    "            if val < minimum:\n",
    "                minimum = val\n",
    "                indices[j] = i\n",
    "        OPT[j] = minimum\n",
    "    return OPT[n-1], indices\n",
    "\n",
    "\n",
    "# tracing the output to get the number of segments\n",
    "def getNumSegs(arr):\n",
    "    num_segments = 0\n",
    "    for x in range(1, len(arr)):\n",
    "        # everytime the value changes, it means a new segment was used\n",
    "        if arr[x] > arr[x-1]:\n",
    "            num_segments += 1\n",
    "    return num_segments"
   ]
  },
  {
   "cell_type": "markdown",
   "metadata": {},
   "source": [
    "# Importing and Formatting the Data"
   ]
  },
  {
   "cell_type": "code",
   "execution_count": 6,
   "metadata": {},
   "outputs": [],
   "source": [
    "# Imports\n",
    "from PIL import Image\n",
    "import numpy as np\n",
    "import pandas as pd\n",
    "import os\n",
    "import re\n",
    "from datetime import datetime"
   ]
  },
  {
   "cell_type": "markdown",
   "metadata": {},
   "source": [
    "**I want to loop through files in the directory and import them\n",
    "<br />\n",
    "Loop through files using OS functions**"
   ]
  },
  {
   "cell_type": "code",
   "execution_count": 7,
   "metadata": {},
   "outputs": [],
   "source": [
    "# Manually get the directories\n",
    "max_directory_in_str = \"/Users/sabhyachhabria/Desktop/GitHub/Weather-Instablity-Analysis/data/maxTempsData\"\n",
    "\n",
    "directory = os.fsencode(max_directory_in_str)\n",
    "maxImageFiles = []\n",
    "\n",
    "for file in os.listdir(max_directory_in_str):\n",
    "    filename = os.fsdecode(file)\n",
    "    if filename.endswith(\".tif\"):\n",
    "        maxImageFiles.append(filename)"
   ]
  },
  {
   "cell_type": "markdown",
   "metadata": {},
   "source": [
    "**We now want to do the same for the min temp image files**"
   ]
  },
  {
   "cell_type": "code",
   "execution_count": 8,
   "metadata": {},
   "outputs": [],
   "source": [
    "min_directory_in_str = \"/Users/sabhyachhabria/Desktop/GitHub/Weather-Instablity-Analysis/data/minTempsData\"\n",
    "\n",
    "directory = os.fsencode(min_directory_in_str)\n",
    "minImageFiles = []\n",
    "\n",
    "for file in os.listdir(min_directory_in_str):\n",
    "    filename = os.fsdecode(file)\n",
    "    if filename.endswith(\".tif\"):\n",
    "        minImageFiles.append(filename)"
   ]
  },
  {
   "cell_type": "markdown",
   "metadata": {},
   "source": [
    "**The files in the (maxImageFiles) array are not sorted\n",
    "<br />\n",
    "We need to sort them by date\n",
    "<br />\n",
    "We want to sort the files chronologically - i.e. by date\n",
    "<br />\n",
    "Before we can do that, we have to extract the date from the filename**"
   ]
  },
  {
   "cell_type": "code",
   "execution_count": 9,
   "metadata": {},
   "outputs": [
    {
     "name": "stdout",
     "output_type": "stream",
     "text": [
      "20090916\n",
      "20080604\n"
     ]
    }
   ],
   "source": [
    "print(maxImageFiles[100][18:26])\n",
    "print(minImageFiles[100][18:26])"
   ]
  },
  {
   "cell_type": "markdown",
   "metadata": {},
   "source": [
    "**All filenames have the same format - so extracting the date should be easy\n",
    "<br />\n",
    "All dates are stored in the 8 chars from index 18 through 26**"
   ]
  },
  {
   "cell_type": "code",
   "execution_count": 10,
   "metadata": {},
   "outputs": [],
   "source": [
    "maxDates = []\n",
    "minDates = []\n",
    "for x in range(len(maxImageFiles)):\n",
    "    # max dates\n",
    "    date = maxImageFiles[x][18:26]\n",
    "    match = re.search(r'\\d{4}\\d{2}\\d{2}', date)\n",
    "    d = datetime.strptime(match.group(), '%Y%m%d').date()\n",
    "    maxDates.append(d)\n",
    "    # min dates\n",
    "    date = minImageFiles[x][18:26]\n",
    "    match = re.search(r'\\d{4}\\d{2}\\d{2}', date)\n",
    "    d = datetime.strptime(match.group(), '%Y%m%d').date()\n",
    "    minDates.append(d)"
   ]
  },
  {
   "cell_type": "markdown",
   "metadata": {},
   "source": [
    "**Just making sure there is a 1-1 correspondence between the two lists**"
   ]
  },
  {
   "cell_type": "code",
   "execution_count": 11,
   "metadata": {},
   "outputs": [
    {
     "name": "stdout",
     "output_type": "stream",
     "text": [
      "us.tmax_nohads_ll_20081020_float.tif --> 2008-10-20\n",
      "us.tmax_nohads_ll_20060131_float.tif --> 2006-01-31\n",
      "us.tmax_nohads_ll_20070517_float.tif --> 2007-05-17\n",
      "us.tmax_nohads_ll_20060307_float.tif --> 2006-03-07\n",
      "us.tmax_nohads_ll_20081216_float.tif --> 2008-12-16\n",
      "\n",
      "us.tmin_nohads_ll_20060923_float.tif --> 2006-09-23\n",
      "us.tmin_nohads_ll_20060112_float.tif --> 2006-01-12\n",
      "us.tmin_nohads_ll_20081003_float.tif --> 2008-10-03\n",
      "us.tmin_nohads_ll_20070228_float.tif --> 2007-02-28\n",
      "us.tmin_nohads_ll_20070702_float.tif --> 2007-07-02\n"
     ]
    }
   ],
   "source": [
    "for x in range(5):\n",
    "    print(maxImageFiles[x] + \" --> \" + str(maxDates[x]))\n",
    "print()\n",
    "# Same for min\n",
    "for x in range(5):\n",
    "    print(minImageFiles[x] + \" --> \" + str(minDates[x]))"
   ]
  },
  {
   "cell_type": "markdown",
   "metadata": {},
   "source": [
    "**We now want to add the filenames and the dates to a pandas DataFrame\n",
    "<br />\n",
    "First convert the lists to NumPy arrays**"
   ]
  },
  {
   "cell_type": "code",
   "execution_count": 12,
   "metadata": {},
   "outputs": [
    {
     "data": {
      "text/html": [
       "<div>\n",
       "<style scoped>\n",
       "    .dataframe tbody tr th:only-of-type {\n",
       "        vertical-align: middle;\n",
       "    }\n",
       "\n",
       "    .dataframe tbody tr th {\n",
       "        vertical-align: top;\n",
       "    }\n",
       "\n",
       "    .dataframe thead th {\n",
       "        text-align: right;\n",
       "    }\n",
       "</style>\n",
       "<table border=\"1\" class=\"dataframe\">\n",
       "  <thead>\n",
       "    <tr style=\"text-align: right;\">\n",
       "      <th></th>\n",
       "      <th>FileNames</th>\n",
       "      <th>Dates</th>\n",
       "    </tr>\n",
       "  </thead>\n",
       "  <tbody>\n",
       "    <tr>\n",
       "      <th>0</th>\n",
       "      <td>us.tmax_nohads_ll_20081020_float.tif</td>\n",
       "      <td>2008-10-20</td>\n",
       "    </tr>\n",
       "    <tr>\n",
       "      <th>1</th>\n",
       "      <td>us.tmax_nohads_ll_20060131_float.tif</td>\n",
       "      <td>2006-01-31</td>\n",
       "    </tr>\n",
       "    <tr>\n",
       "      <th>2</th>\n",
       "      <td>us.tmax_nohads_ll_20070517_float.tif</td>\n",
       "      <td>2007-05-17</td>\n",
       "    </tr>\n",
       "    <tr>\n",
       "      <th>3</th>\n",
       "      <td>us.tmax_nohads_ll_20060307_float.tif</td>\n",
       "      <td>2006-03-07</td>\n",
       "    </tr>\n",
       "    <tr>\n",
       "      <th>4</th>\n",
       "      <td>us.tmax_nohads_ll_20081216_float.tif</td>\n",
       "      <td>2008-12-16</td>\n",
       "    </tr>\n",
       "  </tbody>\n",
       "</table>\n",
       "</div>"
      ],
      "text/plain": [
       "                              FileNames       Dates\n",
       "0  us.tmax_nohads_ll_20081020_float.tif  2008-10-20\n",
       "1  us.tmax_nohads_ll_20060131_float.tif  2006-01-31\n",
       "2  us.tmax_nohads_ll_20070517_float.tif  2007-05-17\n",
       "3  us.tmax_nohads_ll_20060307_float.tif  2006-03-07\n",
       "4  us.tmax_nohads_ll_20081216_float.tif  2008-12-16"
      ]
     },
     "execution_count": 12,
     "metadata": {},
     "output_type": "execute_result"
    }
   ],
   "source": [
    "np_maxImageFiles = np.asarray(maxImageFiles)\n",
    "np_maxDates = np.asarray(maxDates)\n",
    "df_maxFiles = pd.DataFrame({'FileNames':np_maxImageFiles, 'Dates':np_maxDates})\n",
    "df_maxFiles.head()"
   ]
  },
  {
   "cell_type": "code",
   "execution_count": 13,
   "metadata": {},
   "outputs": [
    {
     "data": {
      "text/html": [
       "<div>\n",
       "<style scoped>\n",
       "    .dataframe tbody tr th:only-of-type {\n",
       "        vertical-align: middle;\n",
       "    }\n",
       "\n",
       "    .dataframe tbody tr th {\n",
       "        vertical-align: top;\n",
       "    }\n",
       "\n",
       "    .dataframe thead th {\n",
       "        text-align: right;\n",
       "    }\n",
       "</style>\n",
       "<table border=\"1\" class=\"dataframe\">\n",
       "  <thead>\n",
       "    <tr style=\"text-align: right;\">\n",
       "      <th></th>\n",
       "      <th>FileNames</th>\n",
       "      <th>Dates</th>\n",
       "    </tr>\n",
       "  </thead>\n",
       "  <tbody>\n",
       "    <tr>\n",
       "      <th>0</th>\n",
       "      <td>us.tmin_nohads_ll_20060923_float.tif</td>\n",
       "      <td>2006-09-23</td>\n",
       "    </tr>\n",
       "    <tr>\n",
       "      <th>1</th>\n",
       "      <td>us.tmin_nohads_ll_20060112_float.tif</td>\n",
       "      <td>2006-01-12</td>\n",
       "    </tr>\n",
       "    <tr>\n",
       "      <th>2</th>\n",
       "      <td>us.tmin_nohads_ll_20081003_float.tif</td>\n",
       "      <td>2008-10-03</td>\n",
       "    </tr>\n",
       "    <tr>\n",
       "      <th>3</th>\n",
       "      <td>us.tmin_nohads_ll_20070228_float.tif</td>\n",
       "      <td>2007-02-28</td>\n",
       "    </tr>\n",
       "    <tr>\n",
       "      <th>4</th>\n",
       "      <td>us.tmin_nohads_ll_20070702_float.tif</td>\n",
       "      <td>2007-07-02</td>\n",
       "    </tr>\n",
       "  </tbody>\n",
       "</table>\n",
       "</div>"
      ],
      "text/plain": [
       "                              FileNames       Dates\n",
       "0  us.tmin_nohads_ll_20060923_float.tif  2006-09-23\n",
       "1  us.tmin_nohads_ll_20060112_float.tif  2006-01-12\n",
       "2  us.tmin_nohads_ll_20081003_float.tif  2008-10-03\n",
       "3  us.tmin_nohads_ll_20070228_float.tif  2007-02-28\n",
       "4  us.tmin_nohads_ll_20070702_float.tif  2007-07-02"
      ]
     },
     "execution_count": 13,
     "metadata": {},
     "output_type": "execute_result"
    }
   ],
   "source": [
    "# Same for min\n",
    "np_minImageFiles = np.asarray(minImageFiles)\n",
    "np_minDates = np.asarray(minDates)\n",
    "df_minFiles = pd.DataFrame({'FileNames':np_minImageFiles, 'Dates':np_minDates})\n",
    "df_minFiles.head()"
   ]
  },
  {
   "cell_type": "markdown",
   "metadata": {},
   "source": [
    "**Now, after all of this processing, we want to sort the files by the date\n",
    "<br />\n",
    "We also want to reset the index so that the DF starts from 0 again**"
   ]
  },
  {
   "cell_type": "code",
   "execution_count": 14,
   "metadata": {},
   "outputs": [
    {
     "data": {
      "text/html": [
       "<div>\n",
       "<style scoped>\n",
       "    .dataframe tbody tr th:only-of-type {\n",
       "        vertical-align: middle;\n",
       "    }\n",
       "\n",
       "    .dataframe tbody tr th {\n",
       "        vertical-align: top;\n",
       "    }\n",
       "\n",
       "    .dataframe thead th {\n",
       "        text-align: right;\n",
       "    }\n",
       "</style>\n",
       "<table border=\"1\" class=\"dataframe\">\n",
       "  <thead>\n",
       "    <tr style=\"text-align: right;\">\n",
       "      <th></th>\n",
       "      <th>FileNames</th>\n",
       "      <th>Dates</th>\n",
       "    </tr>\n",
       "  </thead>\n",
       "  <tbody>\n",
       "    <tr>\n",
       "      <th>0</th>\n",
       "      <td>us.tmax_nohads_ll_20060101_float.tif</td>\n",
       "      <td>2006-01-01</td>\n",
       "    </tr>\n",
       "    <tr>\n",
       "      <th>1</th>\n",
       "      <td>us.tmax_nohads_ll_20060102_float.tif</td>\n",
       "      <td>2006-01-02</td>\n",
       "    </tr>\n",
       "    <tr>\n",
       "      <th>2</th>\n",
       "      <td>us.tmax_nohads_ll_20060103_float.tif</td>\n",
       "      <td>2006-01-03</td>\n",
       "    </tr>\n",
       "    <tr>\n",
       "      <th>3</th>\n",
       "      <td>us.tmax_nohads_ll_20060104_float.tif</td>\n",
       "      <td>2006-01-04</td>\n",
       "    </tr>\n",
       "    <tr>\n",
       "      <th>4</th>\n",
       "      <td>us.tmax_nohads_ll_20060105_float.tif</td>\n",
       "      <td>2006-01-05</td>\n",
       "    </tr>\n",
       "    <tr>\n",
       "      <th>5</th>\n",
       "      <td>us.tmax_nohads_ll_20060106_float.tif</td>\n",
       "      <td>2006-01-06</td>\n",
       "    </tr>\n",
       "    <tr>\n",
       "      <th>6</th>\n",
       "      <td>us.tmax_nohads_ll_20060107_float.tif</td>\n",
       "      <td>2006-01-07</td>\n",
       "    </tr>\n",
       "    <tr>\n",
       "      <th>7</th>\n",
       "      <td>us.tmax_nohads_ll_20060108_float.tif</td>\n",
       "      <td>2006-01-08</td>\n",
       "    </tr>\n",
       "    <tr>\n",
       "      <th>8</th>\n",
       "      <td>us.tmax_nohads_ll_20060109_float.tif</td>\n",
       "      <td>2006-01-09</td>\n",
       "    </tr>\n",
       "    <tr>\n",
       "      <th>9</th>\n",
       "      <td>us.tmax_nohads_ll_20060110_float.tif</td>\n",
       "      <td>2006-01-10</td>\n",
       "    </tr>\n",
       "  </tbody>\n",
       "</table>\n",
       "</div>"
      ],
      "text/plain": [
       "                              FileNames       Dates\n",
       "0  us.tmax_nohads_ll_20060101_float.tif  2006-01-01\n",
       "1  us.tmax_nohads_ll_20060102_float.tif  2006-01-02\n",
       "2  us.tmax_nohads_ll_20060103_float.tif  2006-01-03\n",
       "3  us.tmax_nohads_ll_20060104_float.tif  2006-01-04\n",
       "4  us.tmax_nohads_ll_20060105_float.tif  2006-01-05\n",
       "5  us.tmax_nohads_ll_20060106_float.tif  2006-01-06\n",
       "6  us.tmax_nohads_ll_20060107_float.tif  2006-01-07\n",
       "7  us.tmax_nohads_ll_20060108_float.tif  2006-01-08\n",
       "8  us.tmax_nohads_ll_20060109_float.tif  2006-01-09\n",
       "9  us.tmax_nohads_ll_20060110_float.tif  2006-01-10"
      ]
     },
     "execution_count": 14,
     "metadata": {},
     "output_type": "execute_result"
    }
   ],
   "source": [
    "# Now, after all of this processing, we want to sort the files by the date\n",
    "df_maxFiles = df_maxFiles.sort_values('Dates')\n",
    "df_maxFiles = df_maxFiles.reset_index(drop=True)\n",
    "df_maxFiles.head(10)"
   ]
  },
  {
   "cell_type": "code",
   "execution_count": 15,
   "metadata": {},
   "outputs": [
    {
     "data": {
      "text/html": [
       "<div>\n",
       "<style scoped>\n",
       "    .dataframe tbody tr th:only-of-type {\n",
       "        vertical-align: middle;\n",
       "    }\n",
       "\n",
       "    .dataframe tbody tr th {\n",
       "        vertical-align: top;\n",
       "    }\n",
       "\n",
       "    .dataframe thead th {\n",
       "        text-align: right;\n",
       "    }\n",
       "</style>\n",
       "<table border=\"1\" class=\"dataframe\">\n",
       "  <thead>\n",
       "    <tr style=\"text-align: right;\">\n",
       "      <th></th>\n",
       "      <th>FileNames</th>\n",
       "      <th>Dates</th>\n",
       "    </tr>\n",
       "  </thead>\n",
       "  <tbody>\n",
       "    <tr>\n",
       "      <th>0</th>\n",
       "      <td>us.tmin_nohads_ll_20060101_float.tif</td>\n",
       "      <td>2006-01-01</td>\n",
       "    </tr>\n",
       "    <tr>\n",
       "      <th>1</th>\n",
       "      <td>us.tmin_nohads_ll_20060102_float.tif</td>\n",
       "      <td>2006-01-02</td>\n",
       "    </tr>\n",
       "    <tr>\n",
       "      <th>2</th>\n",
       "      <td>us.tmin_nohads_ll_20060103_float.tif</td>\n",
       "      <td>2006-01-03</td>\n",
       "    </tr>\n",
       "    <tr>\n",
       "      <th>3</th>\n",
       "      <td>us.tmin_nohads_ll_20060104_float.tif</td>\n",
       "      <td>2006-01-04</td>\n",
       "    </tr>\n",
       "    <tr>\n",
       "      <th>4</th>\n",
       "      <td>us.tmin_nohads_ll_20060105_float.tif</td>\n",
       "      <td>2006-01-05</td>\n",
       "    </tr>\n",
       "    <tr>\n",
       "      <th>5</th>\n",
       "      <td>us.tmin_nohads_ll_20060106_float.tif</td>\n",
       "      <td>2006-01-06</td>\n",
       "    </tr>\n",
       "    <tr>\n",
       "      <th>6</th>\n",
       "      <td>us.tmin_nohads_ll_20060107_float.tif</td>\n",
       "      <td>2006-01-07</td>\n",
       "    </tr>\n",
       "    <tr>\n",
       "      <th>7</th>\n",
       "      <td>us.tmin_nohads_ll_20060108_float.tif</td>\n",
       "      <td>2006-01-08</td>\n",
       "    </tr>\n",
       "    <tr>\n",
       "      <th>8</th>\n",
       "      <td>us.tmin_nohads_ll_20060109_float.tif</td>\n",
       "      <td>2006-01-09</td>\n",
       "    </tr>\n",
       "    <tr>\n",
       "      <th>9</th>\n",
       "      <td>us.tmin_nohads_ll_20060110_float.tif</td>\n",
       "      <td>2006-01-10</td>\n",
       "    </tr>\n",
       "  </tbody>\n",
       "</table>\n",
       "</div>"
      ],
      "text/plain": [
       "                              FileNames       Dates\n",
       "0  us.tmin_nohads_ll_20060101_float.tif  2006-01-01\n",
       "1  us.tmin_nohads_ll_20060102_float.tif  2006-01-02\n",
       "2  us.tmin_nohads_ll_20060103_float.tif  2006-01-03\n",
       "3  us.tmin_nohads_ll_20060104_float.tif  2006-01-04\n",
       "4  us.tmin_nohads_ll_20060105_float.tif  2006-01-05\n",
       "5  us.tmin_nohads_ll_20060106_float.tif  2006-01-06\n",
       "6  us.tmin_nohads_ll_20060107_float.tif  2006-01-07\n",
       "7  us.tmin_nohads_ll_20060108_float.tif  2006-01-08\n",
       "8  us.tmin_nohads_ll_20060109_float.tif  2006-01-09\n",
       "9  us.tmin_nohads_ll_20060110_float.tif  2006-01-10"
      ]
     },
     "execution_count": 15,
     "metadata": {},
     "output_type": "execute_result"
    }
   ],
   "source": [
    "# Same for min\n",
    "df_minFiles = df_minFiles.sort_values('Dates')\n",
    "df_minFiles = df_minFiles.reset_index(drop=True)\n",
    "df_minFiles.head(10)"
   ]
  },
  {
   "cell_type": "markdown",
   "metadata": {},
   "source": [
    "**We could delete the dates from the DataFrame at this point as we have sorted the file names\n",
    "<br />\n",
    "However, I'm still leaving it in there - may come in handy at a later point\n",
    "<br />\n",
    "We now want to import the images and store them in the DataFrame\n",
    "<br />\n",
    "Also have to set the cwd of the OS to the one that has the images**"
   ]
  },
  {
   "cell_type": "code",
   "execution_count": 16,
   "metadata": {},
   "outputs": [],
   "source": [
    "os.chdir(\"/Users/sabhyachhabria/Desktop/GitHub/Weather-Instablity-Analysis/data/maxTempsData/\")\n",
    "maxTIFImages = []\n",
    "for index, row in df_maxFiles.iterrows():\n",
    "    im = Image.open(row['FileNames'])\n",
    "    maxTIFImages.append(im)"
   ]
  },
  {
   "cell_type": "markdown",
   "metadata": {},
   "source": [
    "**Add the image files to the DataFrame**"
   ]
  },
  {
   "cell_type": "code",
   "execution_count": 17,
   "metadata": {},
   "outputs": [
    {
     "data": {
      "text/html": [
       "<div>\n",
       "<style scoped>\n",
       "    .dataframe tbody tr th:only-of-type {\n",
       "        vertical-align: middle;\n",
       "    }\n",
       "\n",
       "    .dataframe tbody tr th {\n",
       "        vertical-align: top;\n",
       "    }\n",
       "\n",
       "    .dataframe thead th {\n",
       "        text-align: right;\n",
       "    }\n",
       "</style>\n",
       "<table border=\"1\" class=\"dataframe\">\n",
       "  <thead>\n",
       "    <tr style=\"text-align: right;\">\n",
       "      <th></th>\n",
       "      <th>FileNames</th>\n",
       "      <th>Dates</th>\n",
       "      <th>Images</th>\n",
       "    </tr>\n",
       "  </thead>\n",
       "  <tbody>\n",
       "    <tr>\n",
       "      <th>0</th>\n",
       "      <td>us.tmax_nohads_ll_20060101_float.tif</td>\n",
       "      <td>2006-01-01</td>\n",
       "      <td>&lt;PIL.TiffImagePlugin.TiffImageFile image mode=...</td>\n",
       "    </tr>\n",
       "    <tr>\n",
       "      <th>1</th>\n",
       "      <td>us.tmax_nohads_ll_20060102_float.tif</td>\n",
       "      <td>2006-01-02</td>\n",
       "      <td>&lt;PIL.TiffImagePlugin.TiffImageFile image mode=...</td>\n",
       "    </tr>\n",
       "    <tr>\n",
       "      <th>2</th>\n",
       "      <td>us.tmax_nohads_ll_20060103_float.tif</td>\n",
       "      <td>2006-01-03</td>\n",
       "      <td>&lt;PIL.TiffImagePlugin.TiffImageFile image mode=...</td>\n",
       "    </tr>\n",
       "    <tr>\n",
       "      <th>3</th>\n",
       "      <td>us.tmax_nohads_ll_20060104_float.tif</td>\n",
       "      <td>2006-01-04</td>\n",
       "      <td>&lt;PIL.TiffImagePlugin.TiffImageFile image mode=...</td>\n",
       "    </tr>\n",
       "    <tr>\n",
       "      <th>4</th>\n",
       "      <td>us.tmax_nohads_ll_20060105_float.tif</td>\n",
       "      <td>2006-01-05</td>\n",
       "      <td>&lt;PIL.TiffImagePlugin.TiffImageFile image mode=...</td>\n",
       "    </tr>\n",
       "  </tbody>\n",
       "</table>\n",
       "</div>"
      ],
      "text/plain": [
       "                              FileNames       Dates  \\\n",
       "0  us.tmax_nohads_ll_20060101_float.tif  2006-01-01   \n",
       "1  us.tmax_nohads_ll_20060102_float.tif  2006-01-02   \n",
       "2  us.tmax_nohads_ll_20060103_float.tif  2006-01-03   \n",
       "3  us.tmax_nohads_ll_20060104_float.tif  2006-01-04   \n",
       "4  us.tmax_nohads_ll_20060105_float.tif  2006-01-05   \n",
       "\n",
       "                                              Images  \n",
       "0  <PIL.TiffImagePlugin.TiffImageFile image mode=...  \n",
       "1  <PIL.TiffImagePlugin.TiffImageFile image mode=...  \n",
       "2  <PIL.TiffImagePlugin.TiffImageFile image mode=...  \n",
       "3  <PIL.TiffImagePlugin.TiffImageFile image mode=...  \n",
       "4  <PIL.TiffImagePlugin.TiffImageFile image mode=...  "
      ]
     },
     "execution_count": 17,
     "metadata": {},
     "output_type": "execute_result"
    }
   ],
   "source": [
    "df_maxFiles['Images'] = pd.Series(maxTIFImages)\n",
    "df_maxFiles.head()"
   ]
  },
  {
   "cell_type": "markdown",
   "metadata": {},
   "source": [
    "**Now we want to create a numpy array for each image with the pixel values\n",
    "<br />\n",
    "Things may get a little complicated here**"
   ]
  },
  {
   "cell_type": "code",
   "execution_count": 18,
   "metadata": {},
   "outputs": [
    {
     "data": {
      "text/html": [
       "<div>\n",
       "<style scoped>\n",
       "    .dataframe tbody tr th:only-of-type {\n",
       "        vertical-align: middle;\n",
       "    }\n",
       "\n",
       "    .dataframe tbody tr th {\n",
       "        vertical-align: top;\n",
       "    }\n",
       "\n",
       "    .dataframe thead th {\n",
       "        text-align: right;\n",
       "    }\n",
       "</style>\n",
       "<table border=\"1\" class=\"dataframe\">\n",
       "  <thead>\n",
       "    <tr style=\"text-align: right;\">\n",
       "      <th></th>\n",
       "      <th>FileNames</th>\n",
       "      <th>Dates</th>\n",
       "      <th>Images</th>\n",
       "      <th>ImageArrays</th>\n",
       "    </tr>\n",
       "  </thead>\n",
       "  <tbody>\n",
       "    <tr>\n",
       "      <th>0</th>\n",
       "      <td>us.tmax_nohads_ll_20060101_float.tif</td>\n",
       "      <td>2006-01-01</td>\n",
       "      <td>&lt;PIL.TiffImagePlugin.TiffImageFile image mode=...</td>\n",
       "      <td>[[0.0, 0.0, 0.0, 0.0, 0.0, 0.0, 0.0, 0.0, 0.0,...</td>\n",
       "    </tr>\n",
       "    <tr>\n",
       "      <th>1</th>\n",
       "      <td>us.tmax_nohads_ll_20060102_float.tif</td>\n",
       "      <td>2006-01-02</td>\n",
       "      <td>&lt;PIL.TiffImagePlugin.TiffImageFile image mode=...</td>\n",
       "      <td>[[0.0, 0.0, 0.0, 0.0, 0.0, 0.0, 0.0, 0.0, 0.0,...</td>\n",
       "    </tr>\n",
       "    <tr>\n",
       "      <th>2</th>\n",
       "      <td>us.tmax_nohads_ll_20060103_float.tif</td>\n",
       "      <td>2006-01-03</td>\n",
       "      <td>&lt;PIL.TiffImagePlugin.TiffImageFile image mode=...</td>\n",
       "      <td>[[0.0, 0.0, 0.0, 0.0, 0.0, 0.0, 0.0, 0.0, 0.0,...</td>\n",
       "    </tr>\n",
       "    <tr>\n",
       "      <th>3</th>\n",
       "      <td>us.tmax_nohads_ll_20060104_float.tif</td>\n",
       "      <td>2006-01-04</td>\n",
       "      <td>&lt;PIL.TiffImagePlugin.TiffImageFile image mode=...</td>\n",
       "      <td>[[0.0, 0.0, 0.0, 0.0, 0.0, 0.0, 0.0, 0.0, 0.0,...</td>\n",
       "    </tr>\n",
       "    <tr>\n",
       "      <th>4</th>\n",
       "      <td>us.tmax_nohads_ll_20060105_float.tif</td>\n",
       "      <td>2006-01-05</td>\n",
       "      <td>&lt;PIL.TiffImagePlugin.TiffImageFile image mode=...</td>\n",
       "      <td>[[0.0, 0.0, 0.0, 0.0, 0.0, 0.0, 0.0, 0.0, 0.0,...</td>\n",
       "    </tr>\n",
       "  </tbody>\n",
       "</table>\n",
       "</div>"
      ],
      "text/plain": [
       "                              FileNames       Dates  \\\n",
       "0  us.tmax_nohads_ll_20060101_float.tif  2006-01-01   \n",
       "1  us.tmax_nohads_ll_20060102_float.tif  2006-01-02   \n",
       "2  us.tmax_nohads_ll_20060103_float.tif  2006-01-03   \n",
       "3  us.tmax_nohads_ll_20060104_float.tif  2006-01-04   \n",
       "4  us.tmax_nohads_ll_20060105_float.tif  2006-01-05   \n",
       "\n",
       "                                              Images  \\\n",
       "0  <PIL.TiffImagePlugin.TiffImageFile image mode=...   \n",
       "1  <PIL.TiffImagePlugin.TiffImageFile image mode=...   \n",
       "2  <PIL.TiffImagePlugin.TiffImageFile image mode=...   \n",
       "3  <PIL.TiffImagePlugin.TiffImageFile image mode=...   \n",
       "4  <PIL.TiffImagePlugin.TiffImageFile image mode=...   \n",
       "\n",
       "                                         ImageArrays  \n",
       "0  [[0.0, 0.0, 0.0, 0.0, 0.0, 0.0, 0.0, 0.0, 0.0,...  \n",
       "1  [[0.0, 0.0, 0.0, 0.0, 0.0, 0.0, 0.0, 0.0, 0.0,...  \n",
       "2  [[0.0, 0.0, 0.0, 0.0, 0.0, 0.0, 0.0, 0.0, 0.0,...  \n",
       "3  [[0.0, 0.0, 0.0, 0.0, 0.0, 0.0, 0.0, 0.0, 0.0,...  \n",
       "4  [[0.0, 0.0, 0.0, 0.0, 0.0, 0.0, 0.0, 0.0, 0.0,...  "
      ]
     },
     "execution_count": 18,
     "metadata": {},
     "output_type": "execute_result"
    }
   ],
   "source": [
    "maxImageArrays = []\n",
    "for index, row in df_maxFiles.iterrows():\n",
    "    imarray = np.array(row['Images'])\n",
    "    maxImageArrays.append(imarray)\n",
    "\n",
    "# Now, each image has it's own array of pixel representations\n",
    "# Again, we add this to the DataFrame\n",
    "df_maxFiles['ImageArrays'] = pd.Series(maxImageArrays)\n",
    "df_maxFiles.head()"
   ]
  },
  {
   "cell_type": "code",
   "execution_count": 19,
   "metadata": {},
   "outputs": [
    {
     "data": {
      "text/html": [
       "<div>\n",
       "<style scoped>\n",
       "    .dataframe tbody tr th:only-of-type {\n",
       "        vertical-align: middle;\n",
       "    }\n",
       "\n",
       "    .dataframe tbody tr th {\n",
       "        vertical-align: top;\n",
       "    }\n",
       "\n",
       "    .dataframe thead th {\n",
       "        text-align: right;\n",
       "    }\n",
       "</style>\n",
       "<table border=\"1\" class=\"dataframe\">\n",
       "  <thead>\n",
       "    <tr style=\"text-align: right;\">\n",
       "      <th></th>\n",
       "      <th>FileNames</th>\n",
       "      <th>Dates</th>\n",
       "      <th>Images</th>\n",
       "    </tr>\n",
       "  </thead>\n",
       "  <tbody>\n",
       "    <tr>\n",
       "      <th>0</th>\n",
       "      <td>us.tmin_nohads_ll_20060101_float.tif</td>\n",
       "      <td>2006-01-01</td>\n",
       "      <td>&lt;PIL.TiffImagePlugin.TiffImageFile image mode=...</td>\n",
       "    </tr>\n",
       "    <tr>\n",
       "      <th>1</th>\n",
       "      <td>us.tmin_nohads_ll_20060102_float.tif</td>\n",
       "      <td>2006-01-02</td>\n",
       "      <td>&lt;PIL.TiffImagePlugin.TiffImageFile image mode=...</td>\n",
       "    </tr>\n",
       "    <tr>\n",
       "      <th>2</th>\n",
       "      <td>us.tmin_nohads_ll_20060103_float.tif</td>\n",
       "      <td>2006-01-03</td>\n",
       "      <td>&lt;PIL.TiffImagePlugin.TiffImageFile image mode=...</td>\n",
       "    </tr>\n",
       "    <tr>\n",
       "      <th>3</th>\n",
       "      <td>us.tmin_nohads_ll_20060104_float.tif</td>\n",
       "      <td>2006-01-04</td>\n",
       "      <td>&lt;PIL.TiffImagePlugin.TiffImageFile image mode=...</td>\n",
       "    </tr>\n",
       "    <tr>\n",
       "      <th>4</th>\n",
       "      <td>us.tmin_nohads_ll_20060105_float.tif</td>\n",
       "      <td>2006-01-05</td>\n",
       "      <td>&lt;PIL.TiffImagePlugin.TiffImageFile image mode=...</td>\n",
       "    </tr>\n",
       "  </tbody>\n",
       "</table>\n",
       "</div>"
      ],
      "text/plain": [
       "                              FileNames       Dates  \\\n",
       "0  us.tmin_nohads_ll_20060101_float.tif  2006-01-01   \n",
       "1  us.tmin_nohads_ll_20060102_float.tif  2006-01-02   \n",
       "2  us.tmin_nohads_ll_20060103_float.tif  2006-01-03   \n",
       "3  us.tmin_nohads_ll_20060104_float.tif  2006-01-04   \n",
       "4  us.tmin_nohads_ll_20060105_float.tif  2006-01-05   \n",
       "\n",
       "                                              Images  \n",
       "0  <PIL.TiffImagePlugin.TiffImageFile image mode=...  \n",
       "1  <PIL.TiffImagePlugin.TiffImageFile image mode=...  \n",
       "2  <PIL.TiffImagePlugin.TiffImageFile image mode=...  \n",
       "3  <PIL.TiffImagePlugin.TiffImageFile image mode=...  \n",
       "4  <PIL.TiffImagePlugin.TiffImageFile image mode=...  "
      ]
     },
     "execution_count": 19,
     "metadata": {},
     "output_type": "execute_result"
    }
   ],
   "source": [
    "# Now we do all of the image importing for the minimum temperatures\n",
    "os.chdir(\"/Users/sabhyachhabria/Desktop/GitHub/Weather-Instablity-Analysis/data/minTempsData/\")\n",
    "minTIFImages = []\n",
    "for index, row in df_minFiles.iterrows():\n",
    "    im = Image.open(row['FileNames'])\n",
    "    minTIFImages.append(im)\n",
    "\n",
    "# Add the image files to the DataFrame\n",
    "df_minFiles['Images'] = pd.Series(minTIFImages)\n",
    "df_minFiles.head()"
   ]
  },
  {
   "cell_type": "code",
   "execution_count": 23,
   "metadata": {},
   "outputs": [
    {
     "data": {
      "text/html": [
       "<div>\n",
       "<style scoped>\n",
       "    .dataframe tbody tr th:only-of-type {\n",
       "        vertical-align: middle;\n",
       "    }\n",
       "\n",
       "    .dataframe tbody tr th {\n",
       "        vertical-align: top;\n",
       "    }\n",
       "\n",
       "    .dataframe thead th {\n",
       "        text-align: right;\n",
       "    }\n",
       "</style>\n",
       "<table border=\"1\" class=\"dataframe\">\n",
       "  <thead>\n",
       "    <tr style=\"text-align: right;\">\n",
       "      <th></th>\n",
       "      <th>FileNames</th>\n",
       "      <th>Dates</th>\n",
       "      <th>Images</th>\n",
       "      <th>ImageArrays</th>\n",
       "    </tr>\n",
       "  </thead>\n",
       "  <tbody>\n",
       "    <tr>\n",
       "      <th>0</th>\n",
       "      <td>us.tmin_nohads_ll_20060101_float.tif</td>\n",
       "      <td>2006-01-01</td>\n",
       "      <td>&lt;PIL.TiffImagePlugin.TiffImageFile image mode=...</td>\n",
       "      <td>[[0.0, 0.0, 0.0, 0.0, 0.0, 0.0, 0.0, 0.0, 0.0,...</td>\n",
       "    </tr>\n",
       "    <tr>\n",
       "      <th>1</th>\n",
       "      <td>us.tmin_nohads_ll_20060102_float.tif</td>\n",
       "      <td>2006-01-02</td>\n",
       "      <td>&lt;PIL.TiffImagePlugin.TiffImageFile image mode=...</td>\n",
       "      <td>[[0.0, 0.0, 0.0, 0.0, 0.0, 0.0, 0.0, 0.0, 0.0,...</td>\n",
       "    </tr>\n",
       "    <tr>\n",
       "      <th>2</th>\n",
       "      <td>us.tmin_nohads_ll_20060103_float.tif</td>\n",
       "      <td>2006-01-03</td>\n",
       "      <td>&lt;PIL.TiffImagePlugin.TiffImageFile image mode=...</td>\n",
       "      <td>[[0.0, 0.0, 0.0, 0.0, 0.0, 0.0, 0.0, 0.0, 0.0,...</td>\n",
       "    </tr>\n",
       "    <tr>\n",
       "      <th>3</th>\n",
       "      <td>us.tmin_nohads_ll_20060104_float.tif</td>\n",
       "      <td>2006-01-04</td>\n",
       "      <td>&lt;PIL.TiffImagePlugin.TiffImageFile image mode=...</td>\n",
       "      <td>[[0.0, 0.0, 0.0, 0.0, 0.0, 0.0, 0.0, 0.0, 0.0,...</td>\n",
       "    </tr>\n",
       "    <tr>\n",
       "      <th>4</th>\n",
       "      <td>us.tmin_nohads_ll_20060105_float.tif</td>\n",
       "      <td>2006-01-05</td>\n",
       "      <td>&lt;PIL.TiffImagePlugin.TiffImageFile image mode=...</td>\n",
       "      <td>[[0.0, 0.0, 0.0, 0.0, 0.0, 0.0, 0.0, 0.0, 0.0,...</td>\n",
       "    </tr>\n",
       "  </tbody>\n",
       "</table>\n",
       "</div>"
      ],
      "text/plain": [
       "                              FileNames       Dates  \\\n",
       "0  us.tmin_nohads_ll_20060101_float.tif  2006-01-01   \n",
       "1  us.tmin_nohads_ll_20060102_float.tif  2006-01-02   \n",
       "2  us.tmin_nohads_ll_20060103_float.tif  2006-01-03   \n",
       "3  us.tmin_nohads_ll_20060104_float.tif  2006-01-04   \n",
       "4  us.tmin_nohads_ll_20060105_float.tif  2006-01-05   \n",
       "\n",
       "                                              Images  \\\n",
       "0  <PIL.TiffImagePlugin.TiffImageFile image mode=...   \n",
       "1  <PIL.TiffImagePlugin.TiffImageFile image mode=...   \n",
       "2  <PIL.TiffImagePlugin.TiffImageFile image mode=...   \n",
       "3  <PIL.TiffImagePlugin.TiffImageFile image mode=...   \n",
       "4  <PIL.TiffImagePlugin.TiffImageFile image mode=...   \n",
       "\n",
       "                                         ImageArrays  \n",
       "0  [[0.0, 0.0, 0.0, 0.0, 0.0, 0.0, 0.0, 0.0, 0.0,...  \n",
       "1  [[0.0, 0.0, 0.0, 0.0, 0.0, 0.0, 0.0, 0.0, 0.0,...  \n",
       "2  [[0.0, 0.0, 0.0, 0.0, 0.0, 0.0, 0.0, 0.0, 0.0,...  \n",
       "3  [[0.0, 0.0, 0.0, 0.0, 0.0, 0.0, 0.0, 0.0, 0.0,...  \n",
       "4  [[0.0, 0.0, 0.0, 0.0, 0.0, 0.0, 0.0, 0.0, 0.0,...  "
      ]
     },
     "execution_count": 23,
     "metadata": {},
     "output_type": "execute_result"
    }
   ],
   "source": [
    "minImageArrays = []\n",
    "for index, row in df_minFiles.iterrows():\n",
    "    imarray = np.array(row['Images'])\n",
    "    minImageArrays.append(imarray)\n",
    "# Now, each image has it's own array of pixel representations\n",
    "# Again, we add this to the DataFrame\n",
    "df_minFiles['ImageArrays'] = pd.Series(minImageArrays)\n",
    "df_minFiles.head()"
   ]
  },
  {
   "cell_type": "markdown",
   "metadata": {},
   "source": [
    "**Finally, what we have here is two pandas DataFrames that contain the following features:**\n",
    "- File Names\n",
    "- Dates\n",
    "- Actual Images\n",
    "- 2D Array for each Image of pixel values\n",
    "<br />"
   ]
  },
  {
   "cell_type": "code",
   "execution_count": 24,
   "metadata": {},
   "outputs": [
    {
     "name": "stdout",
     "output_type": "stream",
     "text": [
      "71\n",
      "141\n"
     ]
    }
   ],
   "source": [
    "# num rows for each image array\n",
    "print(len(df_minFiles['ImageArrays'][0]))\n",
    "# num cols for each image array\n",
    "print(len(df_minFiles['ImageArrays'][0][0]))"
   ]
  },
  {
   "cell_type": "markdown",
   "metadata": {},
   "source": [
    "**At this point it would be helpful to see how a map looks.**\n",
    "<br />\n",
    "**The map below represents information for a single day**\n",
    "<br />\n",
    "**There grid is $71 \\times 141$ - there is information for $10011$ different locations.**\n",
    "<br />\n",
    "<img src=\"../assets/sample.png\" style=\"width: 500px; height: 300px;\">\n",
    "<br />\n",
    "**The areas in white represent locations for which we do have temperature readings and those that are in black the days for which we don't have temperature readings.**\n",
    "<br />\n",
    "**Now, if we \"stack\" these images on top of each other, what we have is for each of the $10011$ locations is the max and min temperature at the location for every single day in our time period. In more programming relavent terms, we have, for each location, two one dimensional arrays that look like:**\n",
    "<br />\n",
    "<img src=\"../assets/array_sample.png\" style=\"width: 600px; height: 250px;\">"
   ]
  },
  {
   "cell_type": "markdown",
   "metadata": {},
   "source": [
    "# Implementation\n",
    "**I will now use the segmented least square algorithm I developed in the other notebook over here!**"
   ]
  },
  {
   "cell_type": "code",
   "execution_count": 25,
   "metadata": {},
   "outputs": [
    {
     "data": {
      "text/html": [
       "<div>\n",
       "<style scoped>\n",
       "    .dataframe tbody tr th:only-of-type {\n",
       "        vertical-align: middle;\n",
       "    }\n",
       "\n",
       "    .dataframe tbody tr th {\n",
       "        vertical-align: top;\n",
       "    }\n",
       "\n",
       "    .dataframe thead th {\n",
       "        text-align: right;\n",
       "    }\n",
       "</style>\n",
       "<table border=\"1\" class=\"dataframe\">\n",
       "  <thead>\n",
       "    <tr style=\"text-align: right;\">\n",
       "      <th></th>\n",
       "      <th>FileNames</th>\n",
       "      <th>Dates</th>\n",
       "      <th>Images</th>\n",
       "      <th>ImageArrays</th>\n",
       "    </tr>\n",
       "  </thead>\n",
       "  <tbody>\n",
       "    <tr>\n",
       "      <th>0</th>\n",
       "      <td>us.tmin_nohads_ll_20060101_float.tif</td>\n",
       "      <td>2006-01-01</td>\n",
       "      <td>&lt;PIL.TiffImagePlugin.TiffImageFile image mode=...</td>\n",
       "      <td>[[0.0, 0.0, 0.0, 0.0, 0.0, 0.0, 0.0, 0.0, 0.0,...</td>\n",
       "    </tr>\n",
       "    <tr>\n",
       "      <th>1</th>\n",
       "      <td>us.tmin_nohads_ll_20060102_float.tif</td>\n",
       "      <td>2006-01-02</td>\n",
       "      <td>&lt;PIL.TiffImagePlugin.TiffImageFile image mode=...</td>\n",
       "      <td>[[0.0, 0.0, 0.0, 0.0, 0.0, 0.0, 0.0, 0.0, 0.0,...</td>\n",
       "    </tr>\n",
       "    <tr>\n",
       "      <th>2</th>\n",
       "      <td>us.tmin_nohads_ll_20060103_float.tif</td>\n",
       "      <td>2006-01-03</td>\n",
       "      <td>&lt;PIL.TiffImagePlugin.TiffImageFile image mode=...</td>\n",
       "      <td>[[0.0, 0.0, 0.0, 0.0, 0.0, 0.0, 0.0, 0.0, 0.0,...</td>\n",
       "    </tr>\n",
       "    <tr>\n",
       "      <th>3</th>\n",
       "      <td>us.tmin_nohads_ll_20060104_float.tif</td>\n",
       "      <td>2006-01-04</td>\n",
       "      <td>&lt;PIL.TiffImagePlugin.TiffImageFile image mode=...</td>\n",
       "      <td>[[0.0, 0.0, 0.0, 0.0, 0.0, 0.0, 0.0, 0.0, 0.0,...</td>\n",
       "    </tr>\n",
       "    <tr>\n",
       "      <th>4</th>\n",
       "      <td>us.tmin_nohads_ll_20060105_float.tif</td>\n",
       "      <td>2006-01-05</td>\n",
       "      <td>&lt;PIL.TiffImagePlugin.TiffImageFile image mode=...</td>\n",
       "      <td>[[0.0, 0.0, 0.0, 0.0, 0.0, 0.0, 0.0, 0.0, 0.0,...</td>\n",
       "    </tr>\n",
       "  </tbody>\n",
       "</table>\n",
       "</div>"
      ],
      "text/plain": [
       "                              FileNames       Dates  \\\n",
       "0  us.tmin_nohads_ll_20060101_float.tif  2006-01-01   \n",
       "1  us.tmin_nohads_ll_20060102_float.tif  2006-01-02   \n",
       "2  us.tmin_nohads_ll_20060103_float.tif  2006-01-03   \n",
       "3  us.tmin_nohads_ll_20060104_float.tif  2006-01-04   \n",
       "4  us.tmin_nohads_ll_20060105_float.tif  2006-01-05   \n",
       "\n",
       "                                              Images  \\\n",
       "0  <PIL.TiffImagePlugin.TiffImageFile image mode=...   \n",
       "1  <PIL.TiffImagePlugin.TiffImageFile image mode=...   \n",
       "2  <PIL.TiffImagePlugin.TiffImageFile image mode=...   \n",
       "3  <PIL.TiffImagePlugin.TiffImageFile image mode=...   \n",
       "4  <PIL.TiffImagePlugin.TiffImageFile image mode=...   \n",
       "\n",
       "                                         ImageArrays  \n",
       "0  [[0.0, 0.0, 0.0, 0.0, 0.0, 0.0, 0.0, 0.0, 0.0,...  \n",
       "1  [[0.0, 0.0, 0.0, 0.0, 0.0, 0.0, 0.0, 0.0, 0.0,...  \n",
       "2  [[0.0, 0.0, 0.0, 0.0, 0.0, 0.0, 0.0, 0.0, 0.0,...  \n",
       "3  [[0.0, 0.0, 0.0, 0.0, 0.0, 0.0, 0.0, 0.0, 0.0,...  \n",
       "4  [[0.0, 0.0, 0.0, 0.0, 0.0, 0.0, 0.0, 0.0, 0.0,...  "
      ]
     },
     "execution_count": 25,
     "metadata": {},
     "output_type": "execute_result"
    }
   ],
   "source": [
    "#let's now pull out all the weather data value for a single location\n",
    "df_minFiles.head()"
   ]
  },
  {
   "cell_type": "code",
   "execution_count": 26,
   "metadata": {},
   "outputs": [
    {
     "data": {
      "text/html": [
       "<div>\n",
       "<style scoped>\n",
       "    .dataframe tbody tr th:only-of-type {\n",
       "        vertical-align: middle;\n",
       "    }\n",
       "\n",
       "    .dataframe tbody tr th {\n",
       "        vertical-align: top;\n",
       "    }\n",
       "\n",
       "    .dataframe thead th {\n",
       "        text-align: right;\n",
       "    }\n",
       "</style>\n",
       "<table border=\"1\" class=\"dataframe\">\n",
       "  <thead>\n",
       "    <tr style=\"text-align: right;\">\n",
       "      <th></th>\n",
       "      <th>FileNames</th>\n",
       "      <th>Dates</th>\n",
       "      <th>Images</th>\n",
       "      <th>ImageArrays</th>\n",
       "    </tr>\n",
       "  </thead>\n",
       "  <tbody>\n",
       "    <tr>\n",
       "      <th>0</th>\n",
       "      <td>us.tmax_nohads_ll_20060101_float.tif</td>\n",
       "      <td>2006-01-01</td>\n",
       "      <td>&lt;PIL.TiffImagePlugin.TiffImageFile image mode=...</td>\n",
       "      <td>[[0.0, 0.0, 0.0, 0.0, 0.0, 0.0, 0.0, 0.0, 0.0,...</td>\n",
       "    </tr>\n",
       "    <tr>\n",
       "      <th>1</th>\n",
       "      <td>us.tmax_nohads_ll_20060102_float.tif</td>\n",
       "      <td>2006-01-02</td>\n",
       "      <td>&lt;PIL.TiffImagePlugin.TiffImageFile image mode=...</td>\n",
       "      <td>[[0.0, 0.0, 0.0, 0.0, 0.0, 0.0, 0.0, 0.0, 0.0,...</td>\n",
       "    </tr>\n",
       "    <tr>\n",
       "      <th>2</th>\n",
       "      <td>us.tmax_nohads_ll_20060103_float.tif</td>\n",
       "      <td>2006-01-03</td>\n",
       "      <td>&lt;PIL.TiffImagePlugin.TiffImageFile image mode=...</td>\n",
       "      <td>[[0.0, 0.0, 0.0, 0.0, 0.0, 0.0, 0.0, 0.0, 0.0,...</td>\n",
       "    </tr>\n",
       "    <tr>\n",
       "      <th>3</th>\n",
       "      <td>us.tmax_nohads_ll_20060104_float.tif</td>\n",
       "      <td>2006-01-04</td>\n",
       "      <td>&lt;PIL.TiffImagePlugin.TiffImageFile image mode=...</td>\n",
       "      <td>[[0.0, 0.0, 0.0, 0.0, 0.0, 0.0, 0.0, 0.0, 0.0,...</td>\n",
       "    </tr>\n",
       "    <tr>\n",
       "      <th>4</th>\n",
       "      <td>us.tmax_nohads_ll_20060105_float.tif</td>\n",
       "      <td>2006-01-05</td>\n",
       "      <td>&lt;PIL.TiffImagePlugin.TiffImageFile image mode=...</td>\n",
       "      <td>[[0.0, 0.0, 0.0, 0.0, 0.0, 0.0, 0.0, 0.0, 0.0,...</td>\n",
       "    </tr>\n",
       "  </tbody>\n",
       "</table>\n",
       "</div>"
      ],
      "text/plain": [
       "                              FileNames       Dates  \\\n",
       "0  us.tmax_nohads_ll_20060101_float.tif  2006-01-01   \n",
       "1  us.tmax_nohads_ll_20060102_float.tif  2006-01-02   \n",
       "2  us.tmax_nohads_ll_20060103_float.tif  2006-01-03   \n",
       "3  us.tmax_nohads_ll_20060104_float.tif  2006-01-04   \n",
       "4  us.tmax_nohads_ll_20060105_float.tif  2006-01-05   \n",
       "\n",
       "                                              Images  \\\n",
       "0  <PIL.TiffImagePlugin.TiffImageFile image mode=...   \n",
       "1  <PIL.TiffImagePlugin.TiffImageFile image mode=...   \n",
       "2  <PIL.TiffImagePlugin.TiffImageFile image mode=...   \n",
       "3  <PIL.TiffImagePlugin.TiffImageFile image mode=...   \n",
       "4  <PIL.TiffImagePlugin.TiffImageFile image mode=...   \n",
       "\n",
       "                                         ImageArrays  \n",
       "0  [[0.0, 0.0, 0.0, 0.0, 0.0, 0.0, 0.0, 0.0, 0.0,...  \n",
       "1  [[0.0, 0.0, 0.0, 0.0, 0.0, 0.0, 0.0, 0.0, 0.0,...  \n",
       "2  [[0.0, 0.0, 0.0, 0.0, 0.0, 0.0, 0.0, 0.0, 0.0,...  \n",
       "3  [[0.0, 0.0, 0.0, 0.0, 0.0, 0.0, 0.0, 0.0, 0.0,...  \n",
       "4  [[0.0, 0.0, 0.0, 0.0, 0.0, 0.0, 0.0, 0.0, 0.0,...  "
      ]
     },
     "execution_count": 26,
     "metadata": {},
     "output_type": "execute_result"
    }
   ],
   "source": [
    "df_maxFiles.head()"
   ]
  },
  {
   "cell_type": "code",
   "execution_count": 43,
   "metadata": {},
   "outputs": [
    {
     "name": "stdout",
     "output_type": "stream",
     "text": [
      "12.700996\n",
      "3.943964\n"
     ]
    }
   ],
   "source": [
    "# loop through all the days in both the DFs and generate the min and max arrays for a location (x,y)\n",
    "# choosing a random (x,y) location that does not have values 0\n",
    "print(df_maxFiles['ImageArrays'][0][40][50])\n",
    "print(df_minFiles['ImageArrays'][0][40][50])\n",
    "# so our x coordinate is 40 and our y coordinate us 50"
   ]
  },
  {
   "cell_type": "code",
   "execution_count": 46,
   "metadata": {},
   "outputs": [],
   "source": [
    "# make max min arrays for (x,y) = (40,50)\n",
    "max_40_50 = []\n",
    "min_40_50 = []\n",
    "for i in range(len(df_maxFiles)):\n",
    "    max_40_50.append(df_maxFiles['ImageArrays'][i][40][50])\n",
    "    min_40_50.append(df_minFiles['ImageArrays'][i][40][50])"
   ]
  },
  {
   "cell_type": "code",
   "execution_count": 50,
   "metadata": {},
   "outputs": [
    {
     "name": "stdout",
     "output_type": "stream",
     "text": [
      "[15.219311, 12.436539, 10.409096, 14.075719, 13.874703, 5.1088705, 8.725635, 13.028454, 11.969311, 5.8764]\n",
      "[-5.1686993, -2.9835176, -7.3960085, -3.7382262, 0.8633427, -4.629648, -9.620322, -4.959215, -0.7929028, -4.775463]\n"
     ]
    }
   ],
   "source": [
    "# just checking\n",
    "print(max_40_50[10:20])\n",
    "print(min_40_50[10:20])"
   ]
  },
  {
   "cell_type": "markdown",
   "metadata": {},
   "source": [
    "**We can now run the segmented least squares algorithm on the range (max - min for all days)**"
   ]
  },
  {
   "cell_type": "code",
   "execution_count": 52,
   "metadata": {},
   "outputs": [
    {
     "name": "stdout",
     "output_type": "stream",
     "text": [
      "[ 8.757032 17.374617 13.181489 ... 18.097294 12.861223 12.442852]\n"
     ]
    }
   ],
   "source": [
    "# we can now run the segmented least squares algorithm on the range (max - min for all days)\n",
    "max_40_50 = np.asarray(max_40_50)\n",
    "min_40_50 = np.asarray(min_40_50)\n",
    "range_40_50 = max_40_50 - min_40_50\n",
    "print(range_40_50)"
   ]
  },
  {
   "cell_type": "code",
   "execution_count": 61,
   "metadata": {},
   "outputs": [
    {
     "data": {
      "text/html": [
       "<div>\n",
       "<style scoped>\n",
       "    .dataframe tbody tr th:only-of-type {\n",
       "        vertical-align: middle;\n",
       "    }\n",
       "\n",
       "    .dataframe tbody tr th {\n",
       "        vertical-align: top;\n",
       "    }\n",
       "\n",
       "    .dataframe thead th {\n",
       "        text-align: right;\n",
       "    }\n",
       "</style>\n",
       "<table border=\"1\" class=\"dataframe\">\n",
       "  <thead>\n",
       "    <tr style=\"text-align: right;\">\n",
       "      <th></th>\n",
       "      <th>Index(Day)</th>\n",
       "      <th>Range</th>\n",
       "    </tr>\n",
       "  </thead>\n",
       "  <tbody>\n",
       "    <tr>\n",
       "      <th>0</th>\n",
       "      <td>0</td>\n",
       "      <td>8.757032</td>\n",
       "    </tr>\n",
       "    <tr>\n",
       "      <th>1</th>\n",
       "      <td>1</td>\n",
       "      <td>17.374617</td>\n",
       "    </tr>\n",
       "    <tr>\n",
       "      <th>2</th>\n",
       "      <td>2</td>\n",
       "      <td>13.181489</td>\n",
       "    </tr>\n",
       "    <tr>\n",
       "      <th>3</th>\n",
       "      <td>3</td>\n",
       "      <td>14.821342</td>\n",
       "    </tr>\n",
       "    <tr>\n",
       "      <th>4</th>\n",
       "      <td>4</td>\n",
       "      <td>13.292928</td>\n",
       "    </tr>\n",
       "    <tr>\n",
       "      <th>5</th>\n",
       "      <td>5</td>\n",
       "      <td>20.681242</td>\n",
       "    </tr>\n",
       "    <tr>\n",
       "      <th>6</th>\n",
       "      <td>6</td>\n",
       "      <td>20.365120</td>\n",
       "    </tr>\n",
       "    <tr>\n",
       "      <th>7</th>\n",
       "      <td>7</td>\n",
       "      <td>13.723131</td>\n",
       "    </tr>\n",
       "    <tr>\n",
       "      <th>8</th>\n",
       "      <td>8</td>\n",
       "      <td>7.705530</td>\n",
       "    </tr>\n",
       "    <tr>\n",
       "      <th>9</th>\n",
       "      <td>9</td>\n",
       "      <td>19.643965</td>\n",
       "    </tr>\n",
       "  </tbody>\n",
       "</table>\n",
       "</div>"
      ],
      "text/plain": [
       "   Index(Day)      Range\n",
       "0           0   8.757032\n",
       "1           1  17.374617\n",
       "2           2  13.181489\n",
       "3           3  14.821342\n",
       "4           4  13.292928\n",
       "5           5  20.681242\n",
       "6           6  20.365120\n",
       "7           7  13.723131\n",
       "8           8   7.705530\n",
       "9           9  19.643965"
      ]
     },
     "execution_count": 61,
     "metadata": {},
     "output_type": "execute_result"
    }
   ],
   "source": [
    "# generating an index array and joining it to the range arr\n",
    "indices = np.arange(0, len(range_40_50))\n",
    "data_40_50 = pd.DataFrame({'Index(Day)':indices, 'Range':range_40_50})\n",
    "data_40_50.head(10)"
   ]
  },
  {
   "cell_type": "markdown",
   "metadata": {},
   "source": [
    "**We can now plot this!**"
   ]
  },
  {
   "cell_type": "code",
   "execution_count": 63,
   "metadata": {},
   "outputs": [
    {
     "name": "stdout",
     "output_type": "stream",
     "text": [
      "AxesSubplot(0.125,0.125;0.775x0.755)\n"
     ]
    },
    {
     "data": {
      "image/png": "[encoded data removed]",
      "text/plain": [
       "<Figure size 432x288 with 1 Axes>"
      ]
     },
     "metadata": {},
     "output_type": "display_data"
    }
   ],
   "source": [
    "plot = data_40_50.plot(kind='scatter', x='Index(Day)', y='Range')\n",
    "print(plot)"
   ]
  },
  {
   "cell_type": "markdown",
   "metadata": {},
   "source": [
    "**It is now time to run Segemented Least Squares algorithm on this data.**"
   ]
  },
  {
   "cell_type": "code",
   "execution_count": null,
   "metadata": {},
   "outputs": [],
   "source": [
    "cost = 10000\n",
    "# renaming labels\n",
    "data_40_50.columns = ['X', 'Y']\n",
    "\n",
    "mincost, ivals = segLeastSqs(data_40_50, getErrTable(data_40_50), cost)\n",
    "print(mincost)\n",
    "print(ivals)"
   ]
  },
  {
   "cell_type": "code",
   "execution_count": null,
   "metadata": {},
   "outputs": [],
   "source": []
  }
 ],
 "metadata": {
  "kernelspec": {
   "display_name": "Python 3",
   "language": "python",
   "name": "python3"
  },
  "language_info": {
   "codemirror_mode": {
    "name": "ipython",
    "version": 3
   },
   "file_extension": ".py",
   "mimetype": "text/x-python",
   "name": "python",
   "nbconvert_exporter": "python",
   "pygments_lexer": "ipython3",
   "version": "3.6.5"
  }
 },
 "nbformat": 4,
 "nbformat_minor": 2
}
