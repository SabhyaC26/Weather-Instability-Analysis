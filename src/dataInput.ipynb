{
 "cells": [
  {
   "cell_type": "code",
   "execution_count": 39,
   "metadata": {},
   "outputs": [],
   "source": [
    "# Imports\n",
    "from PIL import Image\n",
    "import numpy as np\n",
    "import pandas as pd\n",
    "import os\n",
    "import re\n",
    "from datetime import datetime"
   ]
  },
  {
   "cell_type": "code",
   "execution_count": 42,
   "metadata": {},
   "outputs": [],
   "source": [
    "# I want to loop through files in the directory and import them\n",
    "# Loop through files using OS functions\n",
    "# Import images using PIL functions\n",
    "\n",
    "# Manually get the directory\n",
    "max_directory_in_str = \"/Users/sabhyachhabria/Desktop/GitHub/Weather-Instablity-Analysis/data/maxTempsData\"\n",
    "directory = os.fsencode(max_directory_in_str)\n",
    "maxImageFiles = []\n",
    "\n",
    "for file in os.listdir(max_directory_in_str):\n",
    "    filename = os.fsdecode(file)\n",
    "    if filename.endswith(\".tif\"):\n",
    "        maxImageFiles.append(filename)\n",
    "        continue\n",
    "    else:\n",
    "        continue    "
   ]
  },
  {
   "cell_type": "code",
   "execution_count": 43,
   "metadata": {},
   "outputs": [
    {
     "name": "stdout",
     "output_type": "stream",
     "text": [
      "20090916\n"
     ]
    }
   ],
   "source": [
    "# The files in the (maxImageFiles) array are not sorted\n",
    "# We need to sort them by date\n",
    "# We want to sort the files chronologically - i.e. by date\n",
    "# Before we can do that, we have to extract the date from the filename\n",
    "print(maxImageFiles[100][18:26])"
   ]
  },
  {
   "cell_type": "code",
   "execution_count": 44,
   "metadata": {},
   "outputs": [],
   "source": [
    "# All filenames have the same format - so extracting the date should be easy\n",
    "# All dates are stored in the 8 chars from index 18 through 26\n",
    "# However, it is safer to use Regular Expressions to match the string with a date format\n",
    "maxDates = []\n",
    "for x in range(len(maxImageFiles)):\n",
    "    date = maxImageFiles[x][18:26]\n",
    "    match = re.search(r'\\d{4}\\d{2}\\d{2}', date)\n",
    "    d = datetime.strptime(match.group(), '%Y%m%d').date()\n",
    "    maxDates.append(d)"
   ]
  },
  {
   "cell_type": "code",
   "execution_count": 51,
   "metadata": {},
   "outputs": [
    {
     "name": "stdout",
     "output_type": "stream",
     "text": [
      "us.tmax_nohads_ll_20081020_float.tif --> 2008-10-20\n",
      "us.tmax_nohads_ll_20060131_float.tif --> 2006-01-31\n",
      "us.tmax_nohads_ll_20070517_float.tif --> 2007-05-17\n",
      "us.tmax_nohads_ll_20060307_float.tif --> 2006-03-07\n",
      "us.tmax_nohads_ll_20081216_float.tif --> 2008-12-16\n"
     ]
    }
   ],
   "source": [
    "# Just making sure there is a 1-1 correspondence between the two lists\n",
    "for x in range(5):\n",
    "    print(maxImageFiles[x] + \" --> \" + str(maxDates[x]))"
   ]
  },
  {
   "cell_type": "code",
   "execution_count": 56,
   "metadata": {},
   "outputs": [
    {
     "data": {
      "text/html": [
       "<div>\n",
       "<style scoped>\n",
       "    .dataframe tbody tr th:only-of-type {\n",
       "        vertical-align: middle;\n",
       "    }\n",
       "\n",
       "    .dataframe tbody tr th {\n",
       "        vertical-align: top;\n",
       "    }\n",
       "\n",
       "    .dataframe thead th {\n",
       "        text-align: right;\n",
       "    }\n",
       "</style>\n",
       "<table border=\"1\" class=\"dataframe\">\n",
       "  <thead>\n",
       "    <tr style=\"text-align: right;\">\n",
       "      <th></th>\n",
       "      <th>FileNames</th>\n",
       "      <th>Dates</th>\n",
       "    </tr>\n",
       "  </thead>\n",
       "  <tbody>\n",
       "    <tr>\n",
       "      <th>0</th>\n",
       "      <td>us.tmax_nohads_ll_20081020_float.tif</td>\n",
       "      <td>2008-10-20</td>\n",
       "    </tr>\n",
       "    <tr>\n",
       "      <th>1</th>\n",
       "      <td>us.tmax_nohads_ll_20060131_float.tif</td>\n",
       "      <td>2006-01-31</td>\n",
       "    </tr>\n",
       "    <tr>\n",
       "      <th>2</th>\n",
       "      <td>us.tmax_nohads_ll_20070517_float.tif</td>\n",
       "      <td>2007-05-17</td>\n",
       "    </tr>\n",
       "    <tr>\n",
       "      <th>3</th>\n",
       "      <td>us.tmax_nohads_ll_20060307_float.tif</td>\n",
       "      <td>2006-03-07</td>\n",
       "    </tr>\n",
       "    <tr>\n",
       "      <th>4</th>\n",
       "      <td>us.tmax_nohads_ll_20081216_float.tif</td>\n",
       "      <td>2008-12-16</td>\n",
       "    </tr>\n",
       "  </tbody>\n",
       "</table>\n",
       "</div>"
      ],
      "text/plain": [
       "                              FileNames       Dates\n",
       "0  us.tmax_nohads_ll_20081020_float.tif  2008-10-20\n",
       "1  us.tmax_nohads_ll_20060131_float.tif  2006-01-31\n",
       "2  us.tmax_nohads_ll_20070517_float.tif  2007-05-17\n",
       "3  us.tmax_nohads_ll_20060307_float.tif  2006-03-07\n",
       "4  us.tmax_nohads_ll_20081216_float.tif  2008-12-16"
      ]
     },
     "execution_count": 56,
     "metadata": {},
     "output_type": "execute_result"
    }
   ],
   "source": [
    "# We now want to add the filenames and the dates to a pandas DataFrame\n",
    "# First convert the lists to NumPy arrays\n",
    "np_maxImageFiles = np.asarray(maxImageFiles)\n",
    "np_maxDates = np.asarray(maxDates)\n",
    "df_maxFiles = pd.DataFrame({'FileNames':np_maxImageFiles, 'Dates':np_maxDates})\n",
    "df_maxFiles.head()"
   ]
  },
  {
   "cell_type": "code",
   "execution_count": 65,
   "metadata": {},
   "outputs": [
    {
     "data": {
      "text/html": [
       "<div>\n",
       "<style scoped>\n",
       "    .dataframe tbody tr th:only-of-type {\n",
       "        vertical-align: middle;\n",
       "    }\n",
       "\n",
       "    .dataframe tbody tr th {\n",
       "        vertical-align: top;\n",
       "    }\n",
       "\n",
       "    .dataframe thead th {\n",
       "        text-align: right;\n",
       "    }\n",
       "</style>\n",
       "<table border=\"1\" class=\"dataframe\">\n",
       "  <thead>\n",
       "    <tr style=\"text-align: right;\">\n",
       "      <th></th>\n",
       "      <th>FileNames</th>\n",
       "      <th>Dates</th>\n",
       "    </tr>\n",
       "  </thead>\n",
       "  <tbody>\n",
       "    <tr>\n",
       "      <th>0</th>\n",
       "      <td>us.tmax_nohads_ll_20060101_float.tif</td>\n",
       "      <td>2006-01-01</td>\n",
       "    </tr>\n",
       "    <tr>\n",
       "      <th>1</th>\n",
       "      <td>us.tmax_nohads_ll_20060102_float.tif</td>\n",
       "      <td>2006-01-02</td>\n",
       "    </tr>\n",
       "    <tr>\n",
       "      <th>2</th>\n",
       "      <td>us.tmax_nohads_ll_20060103_float.tif</td>\n",
       "      <td>2006-01-03</td>\n",
       "    </tr>\n",
       "    <tr>\n",
       "      <th>3</th>\n",
       "      <td>us.tmax_nohads_ll_20060104_float.tif</td>\n",
       "      <td>2006-01-04</td>\n",
       "    </tr>\n",
       "    <tr>\n",
       "      <th>4</th>\n",
       "      <td>us.tmax_nohads_ll_20060105_float.tif</td>\n",
       "      <td>2006-01-05</td>\n",
       "    </tr>\n",
       "    <tr>\n",
       "      <th>5</th>\n",
       "      <td>us.tmax_nohads_ll_20060106_float.tif</td>\n",
       "      <td>2006-01-06</td>\n",
       "    </tr>\n",
       "    <tr>\n",
       "      <th>6</th>\n",
       "      <td>us.tmax_nohads_ll_20060107_float.tif</td>\n",
       "      <td>2006-01-07</td>\n",
       "    </tr>\n",
       "    <tr>\n",
       "      <th>7</th>\n",
       "      <td>us.tmax_nohads_ll_20060108_float.tif</td>\n",
       "      <td>2006-01-08</td>\n",
       "    </tr>\n",
       "    <tr>\n",
       "      <th>8</th>\n",
       "      <td>us.tmax_nohads_ll_20060109_float.tif</td>\n",
       "      <td>2006-01-09</td>\n",
       "    </tr>\n",
       "    <tr>\n",
       "      <th>9</th>\n",
       "      <td>us.tmax_nohads_ll_20060110_float.tif</td>\n",
       "      <td>2006-01-10</td>\n",
       "    </tr>\n",
       "  </tbody>\n",
       "</table>\n",
       "</div>"
      ],
      "text/plain": [
       "                              FileNames       Dates\n",
       "0  us.tmax_nohads_ll_20060101_float.tif  2006-01-01\n",
       "1  us.tmax_nohads_ll_20060102_float.tif  2006-01-02\n",
       "2  us.tmax_nohads_ll_20060103_float.tif  2006-01-03\n",
       "3  us.tmax_nohads_ll_20060104_float.tif  2006-01-04\n",
       "4  us.tmax_nohads_ll_20060105_float.tif  2006-01-05\n",
       "5  us.tmax_nohads_ll_20060106_float.tif  2006-01-06\n",
       "6  us.tmax_nohads_ll_20060107_float.tif  2006-01-07\n",
       "7  us.tmax_nohads_ll_20060108_float.tif  2006-01-08\n",
       "8  us.tmax_nohads_ll_20060109_float.tif  2006-01-09\n",
       "9  us.tmax_nohads_ll_20060110_float.tif  2006-01-10"
      ]
     },
     "execution_count": 65,
     "metadata": {},
     "output_type": "execute_result"
    }
   ],
   "source": [
    "# Now, after all of this processing, we want to sort the files by the date\n",
    "df_maxFiles = df_maxFiles.sort_values('Dates')\n",
    "# We also want to reset the index so that the DF starts from 0 again\n",
    "df_maxFiles = df_maxFiles.reset_index(drop=True)\n",
    "df_maxFiles.head(10)"
   ]
  },
  {
   "cell_type": "code",
   "execution_count": 79,
   "metadata": {},
   "outputs": [],
   "source": [
    "# We could delete the dates from the DataFrame at this point as we have sorted the file names\n",
    "# However, I'm still leaving it in there - may come in handy at a later point\n",
    "# We now want to import the images and store them in the DataFrame\n",
    "# Also have to set the cwd of the OS to the one that has the images\n",
    "os.chdir(\"/Users/sabhyachhabria/Desktop/GitHub/Weather-Instablity-Analysis/data/maxTempsData/\")\n",
    "maxTIFImages = []\n",
    "for index, row in df_maxFiles.iterrows():\n",
    "    im = Image.open(row['FileNames'])\n",
    "    maxTIFImages.append(im)"
   ]
  },
  {
   "cell_type": "code",
   "execution_count": 82,
   "metadata": {},
   "outputs": [],
   "source": [
    "# Add the image files to the DataFrame\n",
    "df_maxFiles['Images'] = pd.Series(maxTIFImages)"
   ]
  },
  {
   "cell_type": "code",
   "execution_count": 89,
   "metadata": {},
   "outputs": [],
   "source": [
    "# Now we want to create a numpy array for each image with the pixel values\n",
    "# Things may get a little complicated heres"
   ]
  },
  {
   "cell_type": "code",
   "execution_count": null,
   "metadata": {},
   "outputs": [],
   "source": []
  }
 ],
 "metadata": {
  "kernelspec": {
   "display_name": "Python 3",
   "language": "python",
   "name": "python3"
  },
  "language_info": {
   "codemirror_mode": {
    "name": "ipython",
    "version": 3
   },
   "file_extension": ".py",
   "mimetype": "text/x-python",
   "name": "python",
   "nbconvert_exporter": "python",
   "pygments_lexer": "ipython3",
   "version": "3.6.5"
  }
 },
 "nbformat": 4,
 "nbformat_minor": 2
}
