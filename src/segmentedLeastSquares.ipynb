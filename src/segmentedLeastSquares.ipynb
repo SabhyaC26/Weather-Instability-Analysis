{
 "cells": [
  {
   "cell_type": "markdown",
   "metadata": {},
   "source": [
    "# Background Knowledge\n",
    "\n",
    "Ordinary Least Squares is a foundational problem in statistics and numerical analysis. Given n points in the plane: (x1, y1), (x2, y2) , . . . , (xn, yn), we want to find a line y = ax + b that minimizes the sum of the squared error given by:\n",
    "$$SSE = \\sum_{i=1}^{n} (y_i - ax_i - b)^2$$\n",
    "In the above equation, the values of $a$ and $b$ can be derived using techniques from calculus. I will not delve into those techniques here to maintain focus on the algorithmic application of the problem.\n",
    "\n",
    "$$a = \\frac{n\\sum_{i}{x_i}{y_i} - (\\sum_{i}{x_i})(\\sum_{i}{y_i})}{n\\sum_{i}{x_i^2} - (\\sum_{i}{x_i})^2}$$\n",
    "\n",
    "$$b= \\frac{\\sum_{i}{y_i} -a\\sum_{i}{x_i}}{n}$$\n",
    "A single line, however, does not work very well in a lot of instances. This can be seen inthe following scenario:\n",
    "<img src=\"../assets/single_line.png\">\n",
    "\n",
    "A better way to model the points in the above graph would be to use a sequence on lines that fits well, rather than just one, with each line having an associated cost, to prevent the use of more lines than required. For example, the above points can be modelled with 3 lines:"
   ]
  },
  {
   "cell_type": "code",
   "execution_count": null,
   "metadata": {},
   "outputs": [],
   "source": []
  }
 ],
 "metadata": {
  "kernelspec": {
   "display_name": "Python 3",
   "language": "python",
   "name": "python3"
  },
  "language_info": {
   "codemirror_mode": {
    "name": "ipython",
    "version": 3
   },
   "file_extension": ".py",
   "mimetype": "text/x-python",
   "name": "python",
   "nbconvert_exporter": "python",
   "pygments_lexer": "ipython3",
   "version": "3.6.5"
  }
 },
 "nbformat": 4,
 "nbformat_minor": 2
}
